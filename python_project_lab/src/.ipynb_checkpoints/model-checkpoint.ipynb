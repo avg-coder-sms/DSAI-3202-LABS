{
 "cells": [
  {
   "cell_type": "code",
   "execution_count": null,
   "id": "0937e93c-5c2d-4c1d-a2ab-0bbc4cd55b1f",
   "metadata": {},
   "outputs": [],
   "source": [
    "from sklearn.ensemble import RandomForestClassifier\n",
    "def train_model(X_train, y_train):\n",
    "\"\"\"\n",
    "Trains a RandomForestClassifier on the given training data.\n",
    "Args:\n",
    "X_train (pandas.DataFrame): The training features.\n",
    "y_train (pandas.Series): The training labels.\n",
    "Returns:\n",
    "RandomForestClassifier: The trained model.\n",
    "\"\"\"\n",
    "model = RandomForestClassifier(random_state=42)\n",
    "model.fit(X_train, y_train)\n",
    "return model"
   ]
  }
 ],
 "metadata": {
  "kernelspec": {
   "display_name": "Python 3 (ipykernel)",
   "language": "python",
   "name": "python3"
  },
  "language_info": {
   "codemirror_mode": {
    "name": "ipython",
    "version": 3
   },
   "file_extension": ".py",
   "mimetype": "text/x-python",
   "name": "python",
   "nbconvert_exporter": "python",
   "pygments_lexer": "ipython3",
   "version": "3.12.7"
  }
 },
 "nbformat": 4,
 "nbformat_minor": 5
}
