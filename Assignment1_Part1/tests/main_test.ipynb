{
 "cells": [
  {
   "cell_type": "code",
   "execution_count": 4,
   "metadata": {},
   "outputs": [],
   "source": [
    "import multiprocessing\n",
    "import concurrent.futures\n",
    "import random\n",
    "\n",
    "def square(n):\n",
    "    \"\"\"Computes the square of a number.\"\"\"\n",
    "    return n * n\n",
    "\n",
    "def generate_numbers(size):\n",
    "    \"\"\"Generates a list of random numbers.\"\"\"\n",
    "    return [random.randint(1, 100) for _ in range(size)]\n",
    "\n",
    "def sequential_squares(numbers):\n",
    "    \"\"\"Computes squares sequentially using a for loop.\"\"\"\n",
    "    return [square(n) for n in numbers]\n",
    "\n",
    "def multiprocessing_squares(numbers):\n",
    "    \"\"\"Computes squares using individual multiprocessing processes.\"\"\"\n",
    "    processes = []\n",
    "    results = multiprocessing.Manager().list()\n",
    "\n",
    "\n",
    "    for num in numbers:\n",
    "        p = multiprocessing.Process(target=square, args=(num,))\n",
    "        processes.append(p)\n",
    "        p.start()\n",
    "\n",
    "    for p in processes:\n",
    "        p.join()\n",
    "\n",
    "    return list(results)\n",
    "\n",
    "def pool_map_squares(numbers):\n",
    "    \"\"\"Computes squares using multiprocessing Pool with map().\"\"\"\n",
    "    with multiprocessing.Pool() as pool:\n",
    "        return pool.map(square, numbers)\n",
    "\n",
    "def pool_map_async_squares(numbers):\n",
    "    \"\"\"Computes squares asynchronously using multiprocessing Pool with map_async().\"\"\"\n",
    "    with multiprocessing.Pool() as pool:\n",
    "        result = pool.map_async(square, numbers)\n",
    "        return result.get()  # Wait for results\n",
    "\n",
    "def pool_apply_squares(numbers):\n",
    "    \"\"\"Computes squares using multiprocessing Pool with apply().\"\"\"\n",
    "    with multiprocessing.Pool() as pool:\n",
    "        results = [pool.apply(square, args=(n,)) for n in numbers]\n",
    "    return results\n",
    "\n",
    "def pool_apply_async_squares(numbers):\n",
    "    \"\"\"Computes squares asynchronously using multiprocessing Pool with apply_async().\"\"\"\n",
    "    with multiprocessing.Pool() as pool:\n",
    "        results = [pool.apply_async(square, args=(n,)) for n in numbers]\n",
    "        return [r.get() for r in results]  # Wait for each result\n",
    "\n",
    "def concurrent_squares(numbers):\n",
    "    \"\"\"Computes squares using concurrent.futures ProcessPoolExecutor.\"\"\"\n",
    "    with concurrent.futures.ProcessPoolExecutor() as executor:\n",
    "        return list(executor.map(square, numbers))\n"
   ]
  },
  {
   "cell_type": "code",
   "execution_count": 5,
   "metadata": {},
   "outputs": [],
   "source": [
    "import time\n",
    "\n",
    "def benchmark(func, numbers):\n",
    "    \"\"\"Measures execution time of a function.\"\"\"\n",
    "    start = time.time()\n",
    "    result = func(numbers)\n",
    "    end = time.time()\n",
    "    return result, end - start\n",
    "\n"
   ]
  },
  {
   "cell_type": "code",
   "execution_count": 6,
   "metadata": {},
   "outputs": [
    {
     "name": "stdout",
     "output_type": "stream",
     "text": [
      "\n",
      "Running benchmarks for 1000000 numbers...\n",
      "Sequential execution time: 0.0563 sec\n"
     ]
    },
    {
     "ename": "OSError",
     "evalue": "[Errno 24] Too many open files",
     "output_type": "error",
     "traceback": [
      "\u001b[0;31m---------------------------------------------------------------------------\u001b[0m",
      "\u001b[0;31mOSError\u001b[0m                                   Traceback (most recent call last)",
      "Cell \u001b[0;32mIn[6], line 9\u001b[0m\n\u001b[1;32m      6\u001b[0m _, seq_time \u001b[38;5;241m=\u001b[39m benchmark(sequential_squares, numbers)\n\u001b[1;32m      7\u001b[0m \u001b[38;5;28mprint\u001b[39m(\u001b[38;5;124mf\u001b[39m\u001b[38;5;124m\"\u001b[39m\u001b[38;5;124mSequential execution time: \u001b[39m\u001b[38;5;132;01m{\u001b[39;00mseq_time\u001b[38;5;132;01m:\u001b[39;00m\u001b[38;5;124m.4f\u001b[39m\u001b[38;5;132;01m}\u001b[39;00m\u001b[38;5;124m sec\u001b[39m\u001b[38;5;124m\"\u001b[39m)\n\u001b[0;32m----> 9\u001b[0m _, mp_time \u001b[38;5;241m=\u001b[39m benchmark(multiprocessing_squares, numbers)\n\u001b[1;32m     10\u001b[0m \u001b[38;5;28mprint\u001b[39m(\u001b[38;5;124mf\u001b[39m\u001b[38;5;124m\"\u001b[39m\u001b[38;5;124mMultiprocessing (individual processes) execution time: \u001b[39m\u001b[38;5;132;01m{\u001b[39;00mmp_time\u001b[38;5;132;01m:\u001b[39;00m\u001b[38;5;124m.4f\u001b[39m\u001b[38;5;132;01m}\u001b[39;00m\u001b[38;5;124m sec\u001b[39m\u001b[38;5;124m\"\u001b[39m)\n\u001b[1;32m     12\u001b[0m _, pool_map_time \u001b[38;5;241m=\u001b[39m benchmark(pool_map_squares, numbers)\n",
      "Cell \u001b[0;32mIn[5], line 6\u001b[0m, in \u001b[0;36mbenchmark\u001b[0;34m(func, numbers)\u001b[0m\n\u001b[1;32m      4\u001b[0m \u001b[38;5;250m\u001b[39m\u001b[38;5;124;03m\"\"\"Measures execution time of a function.\"\"\"\u001b[39;00m\n\u001b[1;32m      5\u001b[0m start \u001b[38;5;241m=\u001b[39m time\u001b[38;5;241m.\u001b[39mtime()\n\u001b[0;32m----> 6\u001b[0m result \u001b[38;5;241m=\u001b[39m func(numbers)\n\u001b[1;32m      7\u001b[0m end \u001b[38;5;241m=\u001b[39m time\u001b[38;5;241m.\u001b[39mtime()\n\u001b[1;32m      8\u001b[0m \u001b[38;5;28;01mreturn\u001b[39;00m result, end \u001b[38;5;241m-\u001b[39m start\n",
      "Cell \u001b[0;32mIn[4], line 26\u001b[0m, in \u001b[0;36mmultiprocessing_squares\u001b[0;34m(numbers)\u001b[0m\n\u001b[1;32m     24\u001b[0m     p \u001b[38;5;241m=\u001b[39m multiprocessing\u001b[38;5;241m.\u001b[39mProcess(target\u001b[38;5;241m=\u001b[39msquare, args\u001b[38;5;241m=\u001b[39m(num,))\n\u001b[1;32m     25\u001b[0m     processes\u001b[38;5;241m.\u001b[39mappend(p)\n\u001b[0;32m---> 26\u001b[0m     p\u001b[38;5;241m.\u001b[39mstart()\n\u001b[1;32m     28\u001b[0m \u001b[38;5;28;01mfor\u001b[39;00m p \u001b[38;5;129;01min\u001b[39;00m processes:\n\u001b[1;32m     29\u001b[0m     p\u001b[38;5;241m.\u001b[39mjoin()\n",
      "File \u001b[0;32m~/anaconda3/lib/python3.12/multiprocessing/process.py:121\u001b[0m, in \u001b[0;36mBaseProcess.start\u001b[0;34m(self)\u001b[0m\n\u001b[1;32m    118\u001b[0m \u001b[38;5;28;01massert\u001b[39;00m \u001b[38;5;129;01mnot\u001b[39;00m _current_process\u001b[38;5;241m.\u001b[39m_config\u001b[38;5;241m.\u001b[39mget(\u001b[38;5;124m'\u001b[39m\u001b[38;5;124mdaemon\u001b[39m\u001b[38;5;124m'\u001b[39m), \\\n\u001b[1;32m    119\u001b[0m        \u001b[38;5;124m'\u001b[39m\u001b[38;5;124mdaemonic processes are not allowed to have children\u001b[39m\u001b[38;5;124m'\u001b[39m\n\u001b[1;32m    120\u001b[0m _cleanup()\n\u001b[0;32m--> 121\u001b[0m \u001b[38;5;28mself\u001b[39m\u001b[38;5;241m.\u001b[39m_popen \u001b[38;5;241m=\u001b[39m \u001b[38;5;28mself\u001b[39m\u001b[38;5;241m.\u001b[39m_Popen(\u001b[38;5;28mself\u001b[39m)\n\u001b[1;32m    122\u001b[0m \u001b[38;5;28mself\u001b[39m\u001b[38;5;241m.\u001b[39m_sentinel \u001b[38;5;241m=\u001b[39m \u001b[38;5;28mself\u001b[39m\u001b[38;5;241m.\u001b[39m_popen\u001b[38;5;241m.\u001b[39msentinel\n\u001b[1;32m    123\u001b[0m \u001b[38;5;66;03m# Avoid a refcycle if the target function holds an indirect\u001b[39;00m\n\u001b[1;32m    124\u001b[0m \u001b[38;5;66;03m# reference to the process object (see bpo-30775)\u001b[39;00m\n",
      "File \u001b[0;32m~/anaconda3/lib/python3.12/multiprocessing/context.py:224\u001b[0m, in \u001b[0;36mProcess._Popen\u001b[0;34m(process_obj)\u001b[0m\n\u001b[1;32m    222\u001b[0m \u001b[38;5;129m@staticmethod\u001b[39m\n\u001b[1;32m    223\u001b[0m \u001b[38;5;28;01mdef\u001b[39;00m \u001b[38;5;21m_Popen\u001b[39m(process_obj):\n\u001b[0;32m--> 224\u001b[0m     \u001b[38;5;28;01mreturn\u001b[39;00m _default_context\u001b[38;5;241m.\u001b[39mget_context()\u001b[38;5;241m.\u001b[39mProcess\u001b[38;5;241m.\u001b[39m_Popen(process_obj)\n",
      "File \u001b[0;32m~/anaconda3/lib/python3.12/multiprocessing/context.py:282\u001b[0m, in \u001b[0;36mForkProcess._Popen\u001b[0;34m(process_obj)\u001b[0m\n\u001b[1;32m    279\u001b[0m \u001b[38;5;129m@staticmethod\u001b[39m\n\u001b[1;32m    280\u001b[0m \u001b[38;5;28;01mdef\u001b[39;00m \u001b[38;5;21m_Popen\u001b[39m(process_obj):\n\u001b[1;32m    281\u001b[0m     \u001b[38;5;28;01mfrom\u001b[39;00m \u001b[38;5;21;01m.\u001b[39;00m\u001b[38;5;21;01mpopen_fork\u001b[39;00m \u001b[38;5;28;01mimport\u001b[39;00m Popen\n\u001b[0;32m--> 282\u001b[0m     \u001b[38;5;28;01mreturn\u001b[39;00m Popen(process_obj)\n",
      "File \u001b[0;32m~/anaconda3/lib/python3.12/multiprocessing/popen_fork.py:19\u001b[0m, in \u001b[0;36mPopen.__init__\u001b[0;34m(self, process_obj)\u001b[0m\n\u001b[1;32m     17\u001b[0m \u001b[38;5;28mself\u001b[39m\u001b[38;5;241m.\u001b[39mreturncode \u001b[38;5;241m=\u001b[39m \u001b[38;5;28;01mNone\u001b[39;00m\n\u001b[1;32m     18\u001b[0m \u001b[38;5;28mself\u001b[39m\u001b[38;5;241m.\u001b[39mfinalizer \u001b[38;5;241m=\u001b[39m \u001b[38;5;28;01mNone\u001b[39;00m\n\u001b[0;32m---> 19\u001b[0m \u001b[38;5;28mself\u001b[39m\u001b[38;5;241m.\u001b[39m_launch(process_obj)\n",
      "File \u001b[0;32m~/anaconda3/lib/python3.12/multiprocessing/popen_fork.py:65\u001b[0m, in \u001b[0;36mPopen._launch\u001b[0;34m(self, process_obj)\u001b[0m\n\u001b[1;32m     63\u001b[0m code \u001b[38;5;241m=\u001b[39m \u001b[38;5;241m1\u001b[39m\n\u001b[1;32m     64\u001b[0m parent_r, child_w \u001b[38;5;241m=\u001b[39m os\u001b[38;5;241m.\u001b[39mpipe()\n\u001b[0;32m---> 65\u001b[0m child_r, parent_w \u001b[38;5;241m=\u001b[39m os\u001b[38;5;241m.\u001b[39mpipe()\n\u001b[1;32m     66\u001b[0m \u001b[38;5;28mself\u001b[39m\u001b[38;5;241m.\u001b[39mpid \u001b[38;5;241m=\u001b[39m os\u001b[38;5;241m.\u001b[39mfork()\n\u001b[1;32m     67\u001b[0m \u001b[38;5;28;01mif\u001b[39;00m \u001b[38;5;28mself\u001b[39m\u001b[38;5;241m.\u001b[39mpid \u001b[38;5;241m==\u001b[39m \u001b[38;5;241m0\u001b[39m:\n",
      "\u001b[0;31mOSError\u001b[0m: [Errno 24] Too many open files"
     ]
    }
   ],
   "source": [
    "for size in [10**6]:  # Testing with 1 million and 10 million numbers\n",
    "    numbers = generate_numbers(size)\n",
    "        \n",
    "    print(f\"\\nRunning benchmarks for {size} numbers...\")\n",
    "\n",
    "    _, seq_time = benchmark(sequential_squares, numbers)\n",
    "    print(f\"Sequential execution time: {seq_time:.4f} sec\")\n",
    "        \n",
    "    _, mp_time = benchmark(multiprocessing_squares, numbers)\n",
    "    print(f\"Multiprocessing (individual processes) execution time: {mp_time:.4f} sec\")\n",
    "        \n",
    "    _, pool_map_time = benchmark(pool_map_squares, numbers)\n",
    "    print(f\"Multiprocessing Pool (map, synchronous) execution time: {pool_map_time:.4f} sec\")\n",
    "        \n",
    "    _, pool_map_async_time = benchmark(pool_map_async_squares, numbers)\n",
    "    print(f\"Multiprocessing Pool (map_async, asynchronous) execution time: {pool_map_async_time:.4f} sec\")\n",
    "        \n",
    "    _, pool_apply_time = benchmark(pool_apply_squares, numbers)\n",
    "    print(f\"Multiprocessing Pool (apply, synchronous) execution time: {pool_apply_time:.4f} sec\")\n",
    "        \n",
    "    _, pool_apply_async_time = benchmark(pool_apply_async_squares, numbers)\n",
    "    print(f\"Multiprocessing Pool (apply_async, asynchronous) execution time: {pool_apply_async_time:.4f} sec\")\n",
    "        \n",
    "    _, conc_time = benchmark(concurrent_squares, numbers)\n",
    "    print(f\"Concurrent.futures execution time: {conc_time:.4f} sec\")\n"
   ]
  },
  {
   "cell_type": "code",
   "execution_count": 3,
   "metadata": {},
   "outputs": [
    {
     "name": "stdout",
     "output_type": "stream",
     "text": [
      "\n",
      "Running benchmarks for 10000000 numbers...\n",
      "Sequential execution time: 0.5148 sec\n",
      "Multiprocessing Pool (map, synchronous) execution time: 0.8356 sec\n",
      "Multiprocessing Pool (map_async, asynchronous) execution time: 0.7684 sec\n"
     ]
    }
   ],
   "source": [
    "size = 10**7  # Testing with 10 million\n",
    "numbers = generate_numbers(size)\n",
    "        \n",
    "print(f\"\\nRunning benchmarks for {size} numbers...\")\n",
    "\n",
    "_, seq_time = benchmark(sequential_squares, numbers)\n",
    "print(f\"Sequential execution time: {seq_time:.4f} sec\")\n",
    "        \n",
    "#_, mp_time = benchmark(multiprocessing_squares, numbers)\n",
    "#print(f\"Multiprocessing (individual processes) execution time: {mp_time:.4f} sec\")\n",
    "        \n",
    "_, pool_map_time = benchmark(pool_map_squares, numbers)\n",
    "print(f\"Multiprocessing Pool (map, synchronous) execution time: {pool_map_time:.4f} sec\")\n",
    "        \n",
    "_, pool_map_async_time = benchmark(pool_map_async_squares, numbers)\n",
    "print(f\"Multiprocessing Pool (map_async, asynchronous) execution time: {pool_map_async_time:.4f} sec\")\n",
    "        \n"
   ]
  },
  {
   "cell_type": "code",
   "execution_count": null,
   "metadata": {},
   "outputs": [],
   "source": [
    "_, pool_apply_time = benchmark(pool_apply_squares, numbers)\n",
    "print(f\"Multiprocessing Pool (apply, synchronous) execution time: {pool_apply_time:.4f} sec\")\n",
    "        \n"
   ]
  },
  {
   "cell_type": "code",
   "execution_count": 4,
   "metadata": {},
   "outputs": [
    {
     "name": "stdout",
     "output_type": "stream",
     "text": [
      "Multiprocessing Pool (apply_async, asynchronous) execution time: 539.1315 sec\n"
     ]
    }
   ],
   "source": [
    "_, pool_apply_async_time = benchmark(pool_apply_async_squares, numbers)\n",
    "print(f\"Multiprocessing Pool (apply_async, asynchronous) execution time: {pool_apply_async_time:.4f} sec\")\n",
    "        \n"
   ]
  },
  {
   "cell_type": "code",
   "execution_count": null,
   "metadata": {},
   "outputs": [],
   "source": [
    "_, conc_time = benchmark(concurrent_squares, numbers)\n",
    "print(f\"Concurrent.futures execution time: {conc_time:.4f} sec\")\n"
   ]
  }
 ],
 "metadata": {
  "kernelspec": {
   "display_name": "base",
   "language": "python",
   "name": "python3"
  },
  "language_info": {
   "codemirror_mode": {
    "name": "ipython",
    "version": 3
   },
   "file_extension": ".py",
   "mimetype": "text/x-python",
   "name": "python",
   "nbconvert_exporter": "python",
   "pygments_lexer": "ipython3",
   "version": "3.12.2"
  }
 },
 "nbformat": 4,
 "nbformat_minor": 2
}
