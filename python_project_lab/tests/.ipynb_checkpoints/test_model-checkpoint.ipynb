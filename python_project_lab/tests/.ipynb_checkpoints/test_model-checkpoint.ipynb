{
 "cells": [
  {
   "cell_type": "code",
   "execution_count": null,
   "id": "06cc900a-a454-4916-9370-e5eb16fb3a1f",
   "metadata": {},
   "outputs": [],
   "source": [
    "from src.model import train_model\n",
    "from src.data_loader import load_data\n",
    "from src.preprocessing import split_data\n",
    "def test_train_model():\n",
    "\"\"\"\n",
    "Tests whether the RandomForestClassifier is trained\n",
    "correctly.\n",
    "\"\"\"\n",
    "data = load_data()\n",
    "X_train, _, y_train, _ = split_data(data)\n",
    "model = train_model(X_train, y_train)\n",
    "assert model is not None, \"Model should not be None\"\n",
    "assert hasattr(model, \"predict\"), \"Model should have a predict method\""
   ]
  }
 ],
 "metadata": {
  "kernelspec": {
   "display_name": "Python 3 (ipykernel)",
   "language": "python",
   "name": "python3"
  },
  "language_info": {
   "codemirror_mode": {
    "name": "ipython",
    "version": 3
   },
   "file_extension": ".py",
   "mimetype": "text/x-python",
   "name": "python",
   "nbconvert_exporter": "python",
   "pygments_lexer": "ipython3",
   "version": "3.12.7"
  }
 },
 "nbformat": 4,
 "nbformat_minor": 5
}
