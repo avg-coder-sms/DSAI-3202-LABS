{
 "cells": [
  {
   "cell_type": "code",
   "execution_count": 1,
   "metadata": {},
   "outputs": [],
   "source": [
    "import multiprocessing\n",
    "import concurrent.futures\n",
    "import random\n",
    "\n",
    "def square(n):\n",
    "    \"\"\"Computes the square of a number.\"\"\"\n",
    "    return n * n\n",
    "\n",
    "def generate_numbers(size):\n",
    "    \"\"\"Generates a list of random numbers.\"\"\"\n",
    "    return [random.randint(1, 100) for _ in range(size)]\n",
    "\n",
    "def sequential_squares(numbers):\n",
    "    \"\"\"Computes squares sequentially using a for loop.\"\"\"\n",
    "    return [square(n) for n in numbers]\n",
    "\n",
    "def multiprocessing_squares(numbers):\n",
    "    \"\"\"Computes squares using individual multiprocessing processes.\"\"\"\n",
    "    processes = []\n",
    "    results = multiprocessing.Manager().list()\n",
    "\n",
    "    def compute_square(num):\n",
    "        results.append(square(num))\n",
    "\n",
    "    for num in numbers:\n",
    "        p = multiprocessing.Process(target=compute_square, args=(num,))\n",
    "        processes.append(p)\n",
    "        p.start()\n",
    "\n",
    "    for p in processes:\n",
    "        p.join()\n",
    "\n",
    "    return list(results)\n",
    "\n",
    "def pool_map_squares(numbers):\n",
    "    \"\"\"Computes squares using multiprocessing Pool with map().\"\"\"\n",
    "    with multiprocessing.Pool() as pool:\n",
    "        return pool.map(square, numbers)\n",
    "\n",
    "def pool_map_async_squares(numbers):\n",
    "    \"\"\"Computes squares asynchronously using multiprocessing Pool with map_async().\"\"\"\n",
    "    with multiprocessing.Pool() as pool:\n",
    "        result = pool.map_async(square, numbers)\n",
    "        return result.get()  # Wait for results\n",
    "\n",
    "def pool_apply_squares(numbers):\n",
    "    \"\"\"Computes squares using multiprocessing Pool with apply().\"\"\"\n",
    "    with multiprocessing.Pool() as pool:\n",
    "        results = [pool.apply(square, args=(n,)) for n in numbers]\n",
    "    return results\n",
    "\n",
    "def pool_apply_async_squares(numbers):\n",
    "    \"\"\"Computes squares asynchronously using multiprocessing Pool with apply_async().\"\"\"\n",
    "    with multiprocessing.Pool() as pool:\n",
    "        results = [pool.apply_async(square, args=(n,)) for n in numbers]\n",
    "        return [r.get() for r in results]  # Wait for each result\n",
    "\n",
    "def concurrent_squares(numbers):\n",
    "    \"\"\"Computes squares using concurrent.futures ProcessPoolExecutor.\"\"\"\n",
    "    with concurrent.futures.ProcessPoolExecutor() as executor:\n",
    "        return list(executor.map(square, numbers))\n"
   ]
  },
  {
   "cell_type": "code",
   "execution_count": 2,
   "metadata": {},
   "outputs": [],
   "source": [
    "import time\n",
    "\n",
    "def benchmark(func, numbers):\n",
    "    \"\"\"Measures execution time of a function.\"\"\"\n",
    "    start = time.time()\n",
    "    result = func(numbers)\n",
    "    end = time.time()\n",
    "    return result, end - start\n",
    "\n"
   ]
  },
  {
   "cell_type": "code",
   "execution_count": 3,
   "metadata": {},
   "outputs": [
    {
     "name": "stdout",
     "output_type": "stream",
     "text": [
      "\n",
      "Running benchmarks for 1000000 numbers...\n",
      "Sequential execution time: 0.0513 sec\n",
      "Multiprocessing Pool (map, synchronous) execution time: 0.1106 sec\n",
      "Multiprocessing Pool (map_async, asynchronous) execution time: 0.1062 sec\n",
      "Multiprocessing Pool (apply, synchronous) execution time: 166.1157 sec\n",
      "Multiprocessing Pool (apply_async, asynchronous) execution time: 52.7461 sec\n",
      "Concurrent.futures execution time: 110.4048 sec\n"
     ]
    }
   ],
   "source": [
    "for size in [10**6]:  # Testing with 1 million and 10 million numbers\n",
    "    numbers = generate_numbers(size)\n",
    "        \n",
    "    print(f\"\\nRunning benchmarks for {size} numbers...\")\n",
    "\n",
    "    _, seq_time = benchmark(sequential_squares, numbers)\n",
    "    print(f\"Sequential execution time: {seq_time:.4f} sec\")\n",
    "        \n",
    "    #_, mp_time = benchmark(multiprocessing_squares, numbers)\n",
    "    #print(f\"Multiprocessing (individual processes) execution time: {mp_time:.4f} sec\")\n",
    "        \n",
    "    _, pool_map_time = benchmark(pool_map_squares, numbers)\n",
    "    print(f\"Multiprocessing Pool (map, synchronous) execution time: {pool_map_time:.4f} sec\")\n",
    "        \n",
    "    _, pool_map_async_time = benchmark(pool_map_async_squares, numbers)\n",
    "    print(f\"Multiprocessing Pool (map_async, asynchronous) execution time: {pool_map_async_time:.4f} sec\")\n",
    "        \n",
    "    _, pool_apply_time = benchmark(pool_apply_squares, numbers)\n",
    "    print(f\"Multiprocessing Pool (apply, synchronous) execution time: {pool_apply_time:.4f} sec\")\n",
    "        \n",
    "    _, pool_apply_async_time = benchmark(pool_apply_async_squares, numbers)\n",
    "    print(f\"Multiprocessing Pool (apply_async, asynchronous) execution time: {pool_apply_async_time:.4f} sec\")\n",
    "        \n",
    "    _, conc_time = benchmark(concurrent_squares, numbers)\n",
    "    print(f\"Concurrent.futures execution time: {conc_time:.4f} sec\")\n"
   ]
  },
  {
   "cell_type": "code",
   "execution_count": 3,
   "metadata": {},
   "outputs": [
    {
     "name": "stdout",
     "output_type": "stream",
     "text": [
      "\n",
      "Running benchmarks for 10000000 numbers...\n",
      "Sequential execution time: 0.5148 sec\n",
      "Multiprocessing Pool (map, synchronous) execution time: 0.8356 sec\n",
      "Multiprocessing Pool (map_async, asynchronous) execution time: 0.7684 sec\n"
     ]
    }
   ],
   "source": [
    "size = 10**7  # Testing with 10 million\n",
    "numbers = generate_numbers(size)\n",
    "        \n",
    "print(f\"\\nRunning benchmarks for {size} numbers...\")\n",
    "\n",
    "_, seq_time = benchmark(sequential_squares, numbers)\n",
    "print(f\"Sequential execution time: {seq_time:.4f} sec\")\n",
    "        \n",
    "#_, mp_time = benchmark(multiprocessing_squares, numbers)\n",
    "#print(f\"Multiprocessing (individual processes) execution time: {mp_time:.4f} sec\")\n",
    "        \n",
    "_, pool_map_time = benchmark(pool_map_squares, numbers)\n",
    "print(f\"Multiprocessing Pool (map, synchronous) execution time: {pool_map_time:.4f} sec\")\n",
    "        \n",
    "_, pool_map_async_time = benchmark(pool_map_async_squares, numbers)\n",
    "print(f\"Multiprocessing Pool (map_async, asynchronous) execution time: {pool_map_async_time:.4f} sec\")\n",
    "        \n"
   ]
  },
  {
   "cell_type": "code",
   "execution_count": null,
   "metadata": {},
   "outputs": [],
   "source": [
    "_, pool_apply_time = benchmark(pool_apply_squares, numbers)\n",
    "print(f\"Multiprocessing Pool (apply, synchronous) execution time: {pool_apply_time:.4f} sec\")\n",
    "        \n"
   ]
  },
  {
   "cell_type": "code",
   "execution_count": 4,
   "metadata": {},
   "outputs": [
    {
     "name": "stdout",
     "output_type": "stream",
     "text": [
      "Multiprocessing Pool (apply_async, asynchronous) execution time: 539.1315 sec\n"
     ]
    }
   ],
   "source": [
    "_, pool_apply_async_time = benchmark(pool_apply_async_squares, numbers)\n",
    "print(f\"Multiprocessing Pool (apply_async, asynchronous) execution time: {pool_apply_async_time:.4f} sec\")\n",
    "        \n"
   ]
  },
  {
   "cell_type": "code",
   "execution_count": null,
   "metadata": {},
   "outputs": [],
   "source": [
    "_, conc_time = benchmark(concurrent_squares, numbers)\n",
    "print(f\"Concurrent.futures execution time: {conc_time:.4f} sec\")\n"
   ]
  }
 ],
 "metadata": {
  "kernelspec": {
   "display_name": "base",
   "language": "python",
   "name": "python3"
  },
  "language_info": {
   "codemirror_mode": {
    "name": "ipython",
    "version": 3
   },
   "file_extension": ".py",
   "mimetype": "text/x-python",
   "name": "python",
   "nbconvert_exporter": "python",
   "pygments_lexer": "ipython3",
   "version": "3.12.7"
  }
 },
 "nbformat": 4,
 "nbformat_minor": 2
}
