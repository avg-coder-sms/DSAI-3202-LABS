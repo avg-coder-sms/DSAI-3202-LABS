{
 "cells": [
  {
   "cell_type": "markdown",
   "metadata": {},
   "source": [
    "# Imports"
   ]
  },
  {
   "cell_type": "code",
   "execution_count": 6,
   "metadata": {},
   "outputs": [],
   "source": [
    "import time\n",
    "import threading\n",
    "import multiprocessing"
   ]
  },
  {
   "cell_type": "markdown",
   "metadata": {},
   "source": [
    "# Sequential Execution"
   ]
  },
  {
   "cell_type": "code",
   "execution_count": 3,
   "metadata": {},
   "outputs": [
    {
     "name": "stdout",
     "output_type": "stream",
     "text": [
      "Sequential Sum: 50000005000000\n",
      "Execution Time: 0.13345861434936523 seconds\n"
     ]
    }
   ],
   "source": [
    "# Function to calculate the sum from 1 to n\n",
    "def sequential_sum(n):\n",
    "    return sum(range(1, n+1))\n",
    "\n",
    "# Input for large number\n",
    "n = 10000000\n",
    "\n",
    "# Measure execution time\n",
    "start_time = time.time()\n",
    "sum_result = sequential_sum(n)\n",
    "end_time = time.time()\n",
    "\n",
    "execution_time = end_time - start_time\n",
    "\n",
    "print(f\"Sequential Sum: {sum_result}\")\n",
    "print(f\"Execution Time: {execution_time} seconds\")\n",
    "\n"
   ]
  },
  {
   "cell_type": "markdown",
   "metadata": {},
   "source": [
    "# Threads execution"
   ]
  },
  {
   "cell_type": "code",
   "execution_count": 4,
   "metadata": {},
   "outputs": [
    {
     "name": "stdout",
     "output_type": "stream",
     "text": [
      "Threaded Sum: 50000005000000\n",
      "Execution Time (Threaded): 0.10765528678894043 seconds\n"
     ]
    }
   ],
   "source": [
    "# Function to calculate the sum of a specific range\n",
    "def thread_sum(start, end, result, index):\n",
    "    result[index] = sum(range(start, end + 1))\n",
    "\n",
    "# Function to calculate the sum in parallel using threading\n",
    "def parallel_sum_threaded(n, num_threads):\n",
    "    threads = []\n",
    "    result = [0] * num_threads\n",
    "    range_size = n // num_threads\n",
    "\n",
    "    # Create threads for different parts of the range\n",
    "    for i in range(num_threads):\n",
    "        start = i * range_size + 1\n",
    "        end = (i + 1) * range_size if i != num_threads - 1 else n\n",
    "        thread = threading.Thread(target=thread_sum, args=(start, end, result, i))\n",
    "        threads.append(thread)\n",
    "        thread.start()\n",
    "\n",
    "    # Join all threads\n",
    "    for thread in threads:\n",
    "        thread.join()\n",
    "\n",
    "    return sum(result)\n",
    "\n",
    "# Measure execution time for threaded approach\n",
    "num_threads = 4\n",
    "start_time = time.time()\n",
    "sum_result_threaded = parallel_sum_threaded(n, num_threads)\n",
    "end_time = time.time()\n",
    "\n",
    "execution_time_threaded = end_time - start_time\n",
    "\n",
    "print(f\"Threaded Sum: {sum_result_threaded}\")\n",
    "print(f\"Execution Time (Threaded): {execution_time_threaded} seconds\")\n"
   ]
  },
  {
   "cell_type": "markdown",
   "metadata": {},
   "source": [
    "# Trials With processes"
   ]
  },
  {
   "cell_type": "code",
   "execution_count": 7,
   "metadata": {},
   "outputs": [
    {
     "name": "stdout",
     "output_type": "stream",
     "text": [
      "Multiprocessing Sum: 50000005000000\n",
      "Execution Time (Multiprocessing): 0.05491828918457031 seconds\n"
     ]
    }
   ],
   "source": [
    "# Function to calculate the sum of a specific range (for multiprocessing)\n",
    "def process_sum(start, end):\n",
    "    return sum(range(start, end + 1))\n",
    "\n",
    "# Function to calculate the sum in parallel using multiprocessing\n",
    "def parallel_sum_multiprocessing(n, num_processes):\n",
    "    pool = multiprocessing.Pool(processes=num_processes)\n",
    "    range_size = n // num_processes\n",
    "    ranges = [(i * range_size + 1, (i + 1) * range_size if i != num_processes - 1 else n) for i in range(num_processes)]\n",
    "\n",
    "    # Compute the sums in parallel\n",
    "    results = pool.starmap(process_sum, ranges)\n",
    "\n",
    "    return sum(results)\n",
    "\n",
    "# Measure execution time for multiprocessing approach\n",
    "num_processes = 4\n",
    "start_time = time.time()\n",
    "sum_result_multiprocessing = parallel_sum_multiprocessing(n, num_processes)\n",
    "end_time = time.time()\n",
    "\n",
    "execution_time_multiprocessing = end_time - start_time\n",
    "\n",
    "print(f\"Multiprocessing Sum: {sum_result_multiprocessing}\")\n",
    "print(f\"Execution Time (Multiprocessing): {execution_time_multiprocessing} seconds\")\n"
   ]
  },
  {
   "cell_type": "markdown",
   "metadata": {},
   "source": [
    "# Questions"
   ]
  },
  {
   "cell_type": "markdown",
   "metadata": {},
   "source": [
    "#### How does the execution time change when moving from sequential to threaded to multiprocessing implementations?\n",
    "- Sequential: Execution time is generally the longest, as it is a single-threaded, single-process computation.\n",
    "- Threaded: Execution time can be reduced, especially if the task is I/O-bound or if there are multiple cores available. Threading can improve performance by overlapping I/O-bound tasks.\n",
    "- Multiprocessing: Execution time can be significantly reduced compared to sequential and threaded approaches, especially for CPU-bound tasks. Multiprocessing runs in parallel on multiple CPU cores, which can lead to significant speedup."
   ]
  },
  {
   "cell_type": "markdown",
   "metadata": {},
   "source": [
    "#### Calculating speedup"
   ]
  },
  {
   "cell_type": "code",
   "execution_count": 9,
   "metadata": {},
   "outputs": [
    {
     "name": "stdout",
     "output_type": "stream",
     "text": [
      "The speedup using threads is 1.239684722692835\n",
      "The speedup using processes is 2.430130587295523\n"
     ]
    }
   ],
   "source": [
    "speedup_thread = execution_time/execution_time_threaded\n",
    "speedup_processes = execution_time/execution_time_multiprocessing\n",
    "\n",
    "print(f\"The speedup using threads is {speedup_thread}\")\n",
    "print(f\"The speedup using processes is {speedup_processes}\")"
   ]
  },
  {
   "cell_type": "markdown",
   "metadata": {},
   "source": [
    "#### Computing the Efficiency "
   ]
  },
  {
   "cell_type": "code",
   "execution_count": 10,
   "metadata": {},
   "outputs": [
    {
     "name": "stdout",
     "output_type": "stream",
     "text": [
      "The efficiency using threads is 0.30992118067320873\n",
      "The efficiency using processes is 0.6075326468238808\n"
     ]
    }
   ],
   "source": [
    "np = 4\n",
    "efficiency_thread = speedup_thread/np\n",
    "efficiency_processes = speedup_processes/np\n",
    "\n",
    "print(f\"The efficiency using threads is {efficiency_thread}\")\n",
    "print(f\"The efficiency using processes is {efficiency_processes}\")"
   ]
  },
  {
   "cell_type": "markdown",
   "metadata": {},
   "source": [
    "#### Amdhal and Gustafson Laws"
   ]
  },
  {
   "cell_type": "code",
   "execution_count": 11,
   "metadata": {},
   "outputs": [
    {
     "name": "stdout",
     "output_type": "stream",
     "text": [
      "2.1052631578947367\n"
     ]
    }
   ],
   "source": [
    "P = 0.70\n",
    "amdhal_s=1/((1-P) + (P/np))\n",
    "print(amdhal_s)"
   ]
  },
  {
   "cell_type": "code",
   "execution_count": 12,
   "metadata": {},
   "outputs": [
    {
     "name": "stdout",
     "output_type": "stream",
     "text": [
      "3.0999999999999996\n"
     ]
    }
   ],
   "source": [
    "alpha = 1- P\n",
    "gustafson= np + alpha*(1-np)\n",
    "print(gustafson)"
   ]
  },
  {
   "cell_type": "markdown",
   "metadata": {},
   "source": [
    "### Are there any performance differences between the threaded and multiprocessing versions?\n",
    "Yes, multiprocessing is generally better for CPU-bound tasks, as it avoids Global Interpreter Lock (GIL) limitations in Python, while threading is more suitable for I/O-bound tasks. Threading can provide speedup, but it may be limited by the GIL when working with CPU-intensive operations."
   ]
  },
  {
   "cell_type": "markdown",
   "metadata": {},
   "source": [
    "### What challenges did you face when implementing parallelism, and how did you address them?\n",
    "- Threading GIL: Python’s GIL prevents true parallel execution in threads for CPU-bound tasks. I handled this by using multiprocessing for CPU-heavy tasks.\n",
    "- Task Division: Dividing the range of numbers efficiently is important for balanced workload across threads or processes. I ensured each thread or process worked on a roughly equal portion of the range."
   ]
  },
  {
   "cell_type": "markdown",
   "metadata": {},
   "source": [
    "### When would you choose threading over multiprocessing or vice versa for parallel tasks?\n",
    "- Threading: Useful for I/O-bound tasks like reading from files or making network requests.\n",
    "- Multiprocessing: More suitable for CPU-bound tasks, as it avoids the GIL and utilizes multiple cores effectively."
   ]
  }
 ],
 "metadata": {
  "kernelspec": {
   "display_name": "Python 3 (ipykernel)",
   "language": "python",
   "name": "python3"
  },
  "language_info": {
   "codemirror_mode": {
    "name": "ipython",
    "version": 3
   },
   "file_extension": ".py",
   "mimetype": "text/x-python",
   "name": "python",
   "nbconvert_exporter": "python",
   "pygments_lexer": "ipython3",
   "version": "3.12.7"
  }
 },
 "nbformat": 4,
 "nbformat_minor": 4
}
