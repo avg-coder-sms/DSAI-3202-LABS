{
 "cells": [
  {
   "cell_type": "code",
   "execution_count": null,
   "id": "95aef674-38b5-48c9-82b2-24f518712c18",
   "metadata": {},
   "outputs": [],
   "source": [
    "from src.data_loader import load_data\n",
    "def test_load_data():\n",
    "\"\"\"\n",
    "Tests whether the dataset is loaded correctly and is not\n",
    "empty.\n",
    "\"\"\"\n",
    "data = load_data()\n",
    "assert not data.empty, \"Data should not be empty\""
   ]
  }
 ],
 "metadata": {
  "kernelspec": {
   "display_name": "Python 3 (ipykernel)",
   "language": "python",
   "name": "python3"
  },
  "language_info": {
   "codemirror_mode": {
    "name": "ipython",
    "version": 3
   },
   "file_extension": ".py",
   "mimetype": "text/x-python",
   "name": "python",
   "nbconvert_exporter": "python",
   "pygments_lexer": "ipython3",
   "version": "3.12.7"
  }
 },
 "nbformat": 4,
 "nbformat_minor": 5
}
