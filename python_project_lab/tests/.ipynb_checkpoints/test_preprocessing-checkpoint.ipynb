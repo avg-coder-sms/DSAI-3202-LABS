{
 "cells": [
  {
   "cell_type": "code",
   "execution_count": null,
   "id": "b2d134ef-4bd2-4c23-ad14-aca632650a11",
   "metadata": {},
   "outputs": [],
   "source": [
    "from src.data_loader import load_data\n",
    "from src.preprocessing import split_data\n",
    "def test_split_data():\n",
    "\"\"\"\n",
    "Tests whether the data is split into training and testing\n",
    "sets properly.\n",
    "\"\"\"\n",
    "data = load_data()\n",
    "X_train, X_test, y_train, y_test = split_data(data)\n",
    "assert len(X_train) > 0, \"Training data should not be empty\"\n",
    "assert len(X_test) > 0, \"Test data should not be empty\""
   ]
  }
 ],
 "metadata": {
  "kernelspec": {
   "display_name": "Python 3 (ipykernel)",
   "language": "python",
   "name": "python3"
  },
  "language_info": {
   "codemirror_mode": {
    "name": "ipython",
    "version": 3
   },
   "file_extension": ".py",
   "mimetype": "text/x-python",
   "name": "python",
   "nbconvert_exporter": "python",
   "pygments_lexer": "ipython3",
   "version": "3.12.7"
  }
 },
 "nbformat": 4,
 "nbformat_minor": 5
}
