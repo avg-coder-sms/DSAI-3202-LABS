{
 "cells": [
  {
   "cell_type": "markdown",
   "metadata": {},
   "source": [
    "# Imports"
   ]
  },
  {
   "cell_type": "code",
   "execution_count": 4,
   "metadata": {},
   "outputs": [],
   "source": [
    "import multiprocessing\n",
    "import random\n",
    "import time\n",
    "import threading"
   ]
  },
  {
   "cell_type": "markdown",
   "metadata": {},
   "source": [
    "# Functions"
   ]
  },
  {
   "cell_type": "code",
   "execution_count": 5,
   "metadata": {},
   "outputs": [],
   "source": [
    "def generate_and_add_numbers(n: int = 1000):\n",
    "    total = 0\n",
    "    for i in range(n):\n",
    "        total += random.randint(0,1000000)\n",
    "    return total\n",
    "\n",
    "\n",
    "def generate_and_join_letters(n: int = 1000):\n",
    "    letters = ''\n",
    "    for i in range(n):\n",
    "        letters += chr(random.randint(33, 126))\n",
    "    return letters"
   ]
  },
  {
   "cell_type": "markdown",
   "metadata": {},
   "source": [
    "# Sequential Execution"
   ]
  },
  {
   "cell_type": "code",
   "execution_count": 6,
   "metadata": {},
   "outputs": [
    {
     "name": "stdout",
     "output_type": "stream",
     "text": [
      "Starting the Program\n",
      "Exiting the Program\n",
      "It took 6.6638617515563965s to execute the tasks.\n"
     ]
    }
   ],
   "source": [
    "print(\"Starting the Program\")\n",
    "total_start_time = time.time()\n",
    "\n",
    "generate_and_add_numbers(int(1e7))\n",
    "generate_and_join_letters(int(1e7))\n",
    "\n",
    "total_end_time = time.time()\n",
    "print(\"Exiting the Program\")\n",
    "sequential_execution_time = total_end_time - total_start_time\n",
    "print(f\"It took {sequential_execution_time}s to execute the tasks.\")"
   ]
  },
  {
   "cell_type": "markdown",
   "metadata": {},
   "source": [
    "# Threads execution"
   ]
  },
  {
   "cell_type": "code",
   "execution_count": 7,
   "metadata": {},
   "outputs": [
    {
     "name": "stdout",
     "output_type": "stream",
     "text": [
      "Starting the  thread program\n",
      "Exiting the thread program\n",
      "It took 6.890458345413208s to execute the tasks with thread.\n"
     ]
    }
   ],
   "source": [
    "print(\"Starting the  thread program\")\n",
    "total_start_time = time.time()\n",
    "\n",
    "thread_numbers = threading.Thread(target=generate_and_add_numbers, args=[int(1e7)])\n",
    "thread_letters = threading.Thread(target=generate_and_join_letters, args=[int(1e7)])\n",
    "\n",
    "thread_numbers.start()\n",
    "thread_letters.start()\n",
    "\n",
    "thread_numbers.join()\n",
    "thread_letters.join()\n",
    "\n",
    "total_end_time = time.time()\n",
    "print(\"Exiting the thread program\")\n",
    "thread_execution_time = total_end_time - total_start_time\n",
    "print(f\"It took {thread_execution_time}s to execute the tasks with thread.\")"
   ]
  },
  {
   "cell_type": "markdown",
   "metadata": {},
   "source": [
    "# Trials with the same threads"
   ]
  },
  {
   "cell_type": "code",
   "execution_count": 8,
   "metadata": {},
   "outputs": [
    {
     "name": "stdout",
     "output_type": "stream",
     "text": [
      "Starting the two threads program for generate numbers\n",
      "Exiting two threads program for generate numbers\n",
      "It took 6.923914670944214s to execute the tasks with threads.\n"
     ]
    }
   ],
   "source": [
    "print(\"Starting the two threads program for generate numbers\")\n",
    "total_start_time = time.time()\n",
    "\n",
    "thread_numbers = threading.Thread(target=generate_and_add_numbers, args=[int(1e7)])\n",
    "thread_letters = threading.Thread(target=generate_and_add_numbers, args=[int(1e7)])\n",
    "\n",
    "thread_numbers.start()\n",
    "thread_letters.start()\n",
    "\n",
    "thread_numbers.join()\n",
    "thread_letters.join()\n",
    "\n",
    "total_end_time = time.time()\n",
    "print(\"Exiting two threads program for generate numbers\")\n",
    "execution_time = total_end_time - total_start_time\n",
    "print(f\"It took {execution_time}s to execute the tasks with threads.\")"
   ]
  },
  {
   "cell_type": "code",
   "execution_count": 9,
   "metadata": {},
   "outputs": [
    {
     "name": "stdout",
     "output_type": "stream",
     "text": [
      "Starting the two threads program for generate letters\n",
      "Exiting two threads program for generate letters\n",
      "It took 7.013241529464722s to execute the tasks with threads.\n"
     ]
    }
   ],
   "source": [
    "print(\"Starting the two threads program for generate letters\")\n",
    "total_start_time = time.time()\n",
    "\n",
    "thread_numbers = threading.Thread(target=generate_and_add_numbers, args=[int(1e7)])\n",
    "thread_letters = threading.Thread(target=generate_and_add_numbers, args=[int(1e7)])\n",
    "\n",
    "thread_numbers.start()\n",
    "thread_letters.start()\n",
    "\n",
    "thread_numbers.join()\n",
    "thread_letters.join()\n",
    "\n",
    "total_end_time = time.time()\n",
    "print(\"Exiting two threads program for generate letters\")\n",
    "execution_time = total_end_time - total_start_time\n",
    "print(f\"It took {execution_time}s to execute the tasks with threads.\")"
   ]
  },
  {
   "cell_type": "markdown",
   "metadata": {},
   "source": [
    "# Trials With processes"
   ]
  },
  {
   "cell_type": "code",
   "execution_count": 10,
   "metadata": {},
   "outputs": [
    {
     "name": "stdout",
     "output_type": "stream",
     "text": [
      "Starting the two processs program for generate letters\n",
      "Exiting two processs program for generate letters\n",
      "It took 3.556506395339966s to execute the tasks with processs.\n"
     ]
    }
   ],
   "source": [
    "print(\"Starting the two processs program for generate letters\")\n",
    "total_start_time = time.time()\n",
    "\n",
    "process_numbers = multiprocessing.Process(target=generate_and_add_numbers, args=[int(1e7)])\n",
    "process_letters = multiprocessing.Process(target=generate_and_add_numbers, args=[int(1e7)])\n",
    "\n",
    "process_numbers.start()\n",
    "process_letters.start()\n",
    "\n",
    "process_numbers.join()\n",
    "process_letters.join()\n",
    "\n",
    "total_end_time = time.time()\n",
    "print(\"Exiting two processs program for generate letters\")\n",
    "process_execution_time = total_end_time - total_start_time\n",
    "print(f\"It took {process_execution_time}s to execute the tasks with processs.\")"
   ]
  },
  {
   "cell_type": "markdown",
   "metadata": {},
   "source": [
    "# Interpretations\n",
    "- Computing the speedups"
   ]
  },
  {
   "cell_type": "code",
   "execution_count": 11,
   "metadata": {},
   "outputs": [
    {
     "name": "stdout",
     "output_type": "stream",
     "text": [
      "The speedup using threads is 0.9671144381842681\n",
      "The speedup using processes is 1.8737100431726903\n"
     ]
    }
   ],
   "source": [
    "speedup_thread = sequential_execution_time/thread_execution_time\n",
    "speedup_processes = sequential_execution_time/process_execution_time\n",
    "\n",
    "print(f\"The speedup using threads is {speedup_thread}\")\n",
    "print(f\"The speedup using processes is {speedup_processes}\")"
   ]
  },
  {
   "cell_type": "markdown",
   "metadata": {},
   "source": [
    "- Computing the Efficiency "
   ]
  },
  {
   "cell_type": "code",
   "execution_count": 12,
   "metadata": {},
   "outputs": [
    {
     "name": "stdout",
     "output_type": "stream",
     "text": [
      "The efficiency using threads is 0.24177860954606703\n",
      "The efficiency using processes is 0.4684275107931726\n"
     ]
    }
   ],
   "source": [
    "np = 4\n",
    "efficiency_thread = speedup_thread/np\n",
    "efficiency_processes = speedup_processes/np\n",
    "\n",
    "print(f\"The efficiency using threads is {efficiency_thread}\")\n",
    "print(f\"The efficiency using processes is {efficiency_processes}\")"
   ]
  },
  {
   "cell_type": "markdown",
   "metadata": {},
   "source": [
    "- Amdhal and Gustafson Laws"
   ]
  },
  {
   "cell_type": "code",
   "execution_count": 15,
   "metadata": {},
   "outputs": [
    {
     "name": "stdout",
     "output_type": "stream",
     "text": [
      "2.9411764705882355\n"
     ]
    }
   ],
   "source": [
    "P = 0.88\n",
    "amdhal_s=1/((1-P) + (P/np))\n",
    "print(amdhal_s)"
   ]
  },
  {
   "cell_type": "code",
   "execution_count": 17,
   "metadata": {},
   "outputs": [
    {
     "name": "stdout",
     "output_type": "stream",
     "text": [
      "3.64\n"
     ]
    }
   ],
   "source": [
    "alpha = 1-0.88\n",
    "gustafson= np + alpha*(1-np)\n",
    "print(gustafson)"
   ]
  },
  {
   "cell_type": "markdown",
   "metadata": {},
   "source": [
    "# Conclusions"
   ]
  },
  {
   "cell_type": "markdown",
   "metadata": {},
   "source": [
    "### **Key Takeaways:**\n",
    "\n",
    "- **Threads**: Threads did not provide much benefit in this case. The speedup was close to 1, and efficiency was low. This suggests that threading may not be the best approach for this particular task or that the overhead of managing threads was high. Threading in Python, especially with the Global Interpreter Lock (GIL), might not always give optimal performance for CPU-bound tasks.\n",
    "\n",
    "- **Processes**: Processes performed better with a speedup of **1.87** and efficiency of **0.468**, indicating that parallelizing with separate processes (which run in separate memory spaces) can be more effective for tasks that are CPU-bound. This aligns with the observed performance improvement.\n",
    "\n",
    "- **Amdhal's Law**: The speedup observed using processes is far below the theoretical maximum suggested by Amdhal’s Law (**2.94**), indicating that there are inefficiencies in parallelization. It suggests that further improvements could be made to achieve a speedup closer to the theoretical maximum by reducing overhead or improving parallel workload distribution.\n",
    "\n",
    "- **Gustafson's Law**: The speedup using Gustafson's Law (**3.64**) suggests that for larger problem sizes, parallelism could lead to even more significant improvements. This indicates that parallelization is more effective for large-scale problems where the workload is substantial enough to benefit from additional processors.\n",
    "\n",
    "### **Conclusion:**\n",
    "\n",
    "- **Parallelization with Processes** is more effective than with threads for this specific task, likely due to lower overhead and better CPU utilization with processes.\n",
    "- **Threading may not always scale well** for CPU-bound tasks in Python, especially when dealing with Python's Global Interpreter Lock (GIL).\n",
    "- **Amdhal’s Law** provides an upper bound on speedup, which may not always be achievable in real-world scenarios, especially with high overheads or imperfect parallelism.\n",
    "- **Gustafson’s Law** is more optimistic, showing that parallelization could scale more effectively as the problem size grows, making it more suitable for larger workloads.\n",
    "\n",
    "Therefore, if you're dealing with larger datasets or more complex tasks, parallelizing with processes is likely to yield better performance. For smaller tasks or workloads, the overhead of parallelism might outweigh the benefits."
   ]
  }
 ],
 "metadata": {
  "kernelspec": {
   "display_name": "Python 3 (ipykernel)",
   "language": "python",
   "name": "python3"
  },
  "language_info": {
   "codemirror_mode": {
    "name": "ipython",
    "version": 3
   },
   "file_extension": ".py",
   "mimetype": "text/x-python",
   "name": "python",
   "nbconvert_exporter": "python",
   "pygments_lexer": "ipython3",
   "version": "3.12.7"
  }
 },
 "nbformat": 4,
 "nbformat_minor": 4
}
