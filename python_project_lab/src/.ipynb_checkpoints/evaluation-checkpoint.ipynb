{
 "cells": [
  {
   "cell_type": "code",
   "execution_count": null,
   "id": "473e50a8-5151-4092-bcf1-65256c29f06f",
   "metadata": {},
   "outputs": [],
   "source": [
    "from sklearn.metrics import classification_report\n",
    "def evaluate_model(model, X_test, y_test):\n",
    "\"\"\"\n",
    "Evaluates the trained model using test data and generates a\n",
    "classification report.\n",
    "Args:\n",
    "model (RandomForestClassifier): The trained machine\n",
    "learning model.\n",
    "X_test (pandas.DataFrame): The test features.\n",
    "y_test (pandas.Series): The test labels.\n",
    "Returns:\n",
    "str: A classification report as a string.\n",
    "\"\"\"\n",
    "predictions = model.predict(X_test)\n",
    "return classification_report(y_test, predictions)"
   ]
  }
 ],
 "metadata": {
  "kernelspec": {
   "display_name": "Python 3 (ipykernel)",
   "language": "python",
   "name": "python3"
  },
  "language_info": {
   "codemirror_mode": {
    "name": "ipython",
    "version": 3
   },
   "file_extension": ".py",
   "mimetype": "text/x-python",
   "name": "python",
   "nbconvert_exporter": "python",
   "pygments_lexer": "ipython3",
   "version": "3.12.7"
  }
 },
 "nbformat": 4,
 "nbformat_minor": 5
}
