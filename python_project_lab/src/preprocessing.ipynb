{
 "cells": [
  {
   "cell_type": "code",
   "execution_count": null,
   "id": "dfc0b55f-b7c3-4877-8ec5-7aca13caf4b9",
   "metadata": {},
   "outputs": [],
   "source": [
    "from sklearn.model_selection import train_test_split\n",
    "def split_data(data, test_size=0.2, random_state=42):\n",
    "\"\"\"\n",
    "Splits the dataset into training and testing subsets.\n",
    "Args:\n",
    "data (pandas.DataFrame): The dataset to be split.\n",
    "test_size (float): The proportion of the dataset to\n",
    "include in the test split.\n",
    "random_state (int): Controls the shuffling applied to\n",
    "the data before splitting.\n",
    "Returns:\n",
    "tuple: X_train, X_test, y_train, y_test (training and\n",
    "testing data and labels).\n",
    "\"\"\"\n",
    "X = data.drop(columns=['species'])\n",
    "y = data['species']\n",
    "return train_test_split(X, y, test_size=test_size,\n",
    "random_state=random_state)"
   ]
  }
 ],
 "metadata": {
  "kernelspec": {
   "display_name": "Python 3 (ipykernel)",
   "language": "python",
   "name": "python3"
  },
  "language_info": {
   "codemirror_mode": {
    "name": "ipython",
    "version": 3
   },
   "file_extension": ".py",
   "mimetype": "text/x-python",
   "name": "python",
   "nbconvert_exporter": "python",
   "pygments_lexer": "ipython3",
   "version": "3.12.7"
  }
 },
 "nbformat": 4,
 "nbformat_minor": 5
}
